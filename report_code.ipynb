{
  "nbformat": 4,
  "nbformat_minor": 0,
  "metadata": {
    "colab": {
      "provenance": [],
      "machine_shape": "hm"
    },
    "kernelspec": {
      "name": "python3",
      "display_name": "Python 3"
    },
    "language_info": {
      "name": "python"
    }
  },
  "cells": [
    {
      "cell_type": "code",
      "execution_count": null,
      "metadata": {
        "id": "3kLWrh6rlnHt"
      },
      "outputs": [],
      "source": []
    },
    {
      "cell_type": "markdown",
      "source": [
        "## library"
      ],
      "metadata": {
        "id": "Had-OqWAmomK"
      }
    },
    {
      "cell_type": "code",
      "source": [
        "# Import necessary libraries\n",
        "import pandas as pd\n",
        "import numpy as np\n",
        "import re\n",
        "import string\n",
        "import joblib\n",
        "# For text processing\n",
        "import nltk\n",
        "from nltk.corpus import stopwords\n",
        "from nltk.stem import SnowballStemmer\n",
        "nltk.download('stopwords')\n",
        "\n",
        "# For vectorization\n",
        "from sklearn.feature_extraction.text import TfidfVectorizer\n",
        "\n",
        "# For model training and evaluation\n",
        "from sklearn.model_selection import train_test_split, GridSearchCV\n",
        "from sklearn.metrics import classification_report, accuracy_score\n",
        "\n",
        "# Machine Learning Models\n",
        "from sklearn.linear_model import SGDClassifier, LogisticRegression\n",
        "from sklearn.ensemble import StackingClassifier, GradientBoostingClassifier\n",
        "from sklearn.ensemble import StackingClassifier\n",
        "from sklearn.svm import LinearSVC\n",
        "\n",
        "\n",
        "# For combining sparse matrices\n",
        "from scipy.sparse import hstack, csr_matrix\n",
        "\n",
        "# Set random seed\n",
        "RANDOM_STATE = 42"
      ],
      "metadata": {
        "colab": {
          "base_uri": "https://localhost:8080/"
        },
        "id": "XaQvA5Ncmp5I",
        "outputId": "82a34bcd-8490-4aad-8388-32d116d16af4"
      },
      "execution_count": 1,
      "outputs": [
        {
          "output_type": "stream",
          "name": "stderr",
          "text": [
            "[nltk_data] Downloading package stopwords to /root/nltk_data...\n",
            "[nltk_data]   Unzipping corpora/stopwords.zip.\n"
          ]
        }
      ]
    },
    {
      "cell_type": "code",
      "source": [
        "from google.colab import drive\n",
        "\n",
        "drive.mount(\"/content/drive\")"
      ],
      "metadata": {
        "colab": {
          "base_uri": "https://localhost:8080/"
        },
        "id": "b8w-dre4nVu_",
        "outputId": "ff749ed2-5a30-421a-f327-b2faefb4d9e3"
      },
      "execution_count": 2,
      "outputs": [
        {
          "output_type": "stream",
          "name": "stdout",
          "text": [
            "Mounted at /content/drive\n"
          ]
        }
      ]
    },
    {
      "cell_type": "markdown",
      "source": [
        "# data&features process"
      ],
      "metadata": {
        "id": "Fm6Jujc6MRy9"
      }
    },
    {
      "cell_type": "code",
      "source": [
        "# Load the data\n",
        "data = pd.read_csv(\"/content/drive/My Drive/cs506_mid/train.csv\")\n",
        "\n",
        "# Drop rows where 'Score' is missing\n",
        "data = data.dropna(subset=['Score'])\n",
        "#data_sampled = data.sample(n=15000, random_state=RANDOM_STATE).reset_index(drop=True)\n",
        "\n",
        "data_sampled=data\n",
        "# Preprocessing function for text data\n",
        "def preprocess_text(text):\n",
        "    # Convert to lowercase\n",
        "    text = text.lower()\n",
        "    # Remove punctuation\n",
        "    text = re.sub(f'[{re.escape(string.punctuation)}]', '', text)\n",
        "    # Remove numbers\n",
        "    text = re.sub(r'\\d+', '', text)\n",
        "    # Remove whitespace\n",
        "    text = text.strip()\n",
        "    # Remove stopwords\n",
        "    stop_words = set(stopwords.words('english'))\n",
        "    tokens = text.split()\n",
        "    tokens = [word for word in tokens if word not in stop_words]\n",
        "    # Stemming\n",
        "    stemmer = SnowballStemmer('english')\n",
        "    tokens = [stemmer.stem(word) for word in tokens]\n",
        "    # Re-join tokens\n",
        "    text = ' '.join(tokens)\n",
        "    return text\n",
        "data_sampled['Summary'] = data_sampled['Summary'].fillna('')\n",
        "data_sampled['Text'] = data_sampled['Text'].fillna('')\n",
        "data_sampled['HelpfulnessNumerator'] = data_sampled['HelpfulnessNumerator'].fillna(0)\n",
        "data_sampled['HelpfulnessDenominator'] = data_sampled['HelpfulnessDenominator'].fillna(1)\n",
        "data_sampled['Processed_Summary'] = data_sampled['Summary'].apply(preprocess_text)\n",
        "data_sampled['Processed_Text'] = data_sampled['Text'].apply(preprocess_text)\n",
        "\n",
        "\n",
        "tfidf_vectorizer_summary = TfidfVectorizer(max_features=2000, ngram_range=(1,2))\n",
        "tfidf_vectorizer_text = TfidfVectorizer(max_features=5000, ngram_range=(1,2))\n",
        "\n",
        "tfidf_matrix_summary = tfidf_vectorizer_summary.fit_transform(data_sampled['Processed_Summary'])\n",
        "tfidf_matrix_text = tfidf_vectorizer_text.fit_transform(data_sampled['Processed_Text'])\n",
        "\n",
        "\n",
        "#joblib.dump(tfidf_vectorizer_summary, 'tfidf_vectorizer_summary.pkl')\n",
        "#joblib.dump(tfidf_vectorizer_text, 'tfidf_vectorizer_text.pkl')\n",
        "\n",
        "#tfidf_vectorizer_summary = joblib.load('tfidf_vectorizer_summary.pkl')\n",
        "#tfidf_vectorizer_text = joblib.load('tfidf_vectorizer_text.pkl')\n",
        "#tfidf_matrix_summary = tfidf_vectorizer_summary.transform(data_sampled['Processed_Summary'])\n",
        "#tfidf_matrix_text = tfidf_vectorizer_text.transform(data_sampled['Processed_Text'])\n",
        "\n",
        "\n",
        "def calculate_helpfulness_ratio(row):\n",
        "    num = row['HelpfulnessNumerator']\n",
        "    den = row['HelpfulnessDenominator']\n",
        "    if den == 0:\n",
        "        return 0\n",
        "    else:\n",
        "        return num / den\n",
        "\n",
        "data_sampled['HelpfulnessRatio'] = data_sampled.apply(calculate_helpfulness_ratio, axis=1)\n",
        "\n",
        "features = ['Processed_Summary','Processed_Text','HelpfulnessNumerator','HelpfulnessDenominator','HelpfulnessRatio']\n",
        "X=data_sampled[features]\n",
        "numerical_features = data_sampled[['HelpfulnessNumerator', 'HelpfulnessDenominator', 'HelpfulnessRatio']].fillna(0)\n",
        "\n",
        "# Convert numerical features to sparse matrix\n",
        "numerical_features_sparse = csr_matrix(numerical_features.values)\n",
        "\n",
        "# Combine numerical features and vectorized 'Summary' and 'Text' features\n",
        "X = hstack([numerical_features_sparse, tfidf_matrix_summary, tfidf_matrix_text])\n",
        "y=data_sampled['Score'].astype(int)\n",
        "X_train, X_test, y_train, y_test = train_test_split(\n",
        "    X, y, test_size=0.2, stratify=y, random_state=RANDOM_STATE)"
      ],
      "metadata": {
        "id": "OjDFpZsqm0lz"
      },
      "execution_count": 3,
      "outputs": []
    },
    {
      "cell_type": "markdown",
      "source": [
        "# model training"
      ],
      "metadata": {
        "id": "sWOkH0FVMWGF"
      }
    },
    {
      "cell_type": "code",
      "source": [
        "X_train = X_train.copy()\n",
        "X_test = X_test.copy()\n",
        "y_train = y_train.copy()\n",
        "y_test = y_test.copy()\n",
        "# Base estimators\n",
        "estimators = [\n",
        "    ('lr', LogisticRegression(max_iter=10000, random_state=RANDOM_STATE)),\n",
        "    ('linear_svc', LinearSVC(random_state=RANDOM_STATE)),\n",
        "]\n",
        "\n",
        "# Final estimator\n",
        "final_estimator = GradientBoostingClassifier(random_state=RANDOM_STATE)\n",
        "\n",
        "# Initialize StackingClassifier\n",
        "stacking_clf = StackingClassifier(\n",
        "    estimators=estimators,\n",
        "    final_estimator=final_estimator,\n",
        "    cv=5,\n",
        "    n_jobs=-1\n",
        ")\n",
        "stacking_clf.fit(X_train, y_train)"
      ],
      "metadata": {
        "id": "Ms5vng4docRK"
      },
      "execution_count": 6,
      "outputs": []
    },
    {
      "cell_type": "code",
      "source": [
        "#joblib.dump(stacking_clf, '/content/drive/My Drive/cs506_mid/trained_model.pkl')"
      ],
      "metadata": {
        "id": "gIqIIoz3MLCo"
      },
      "execution_count": null,
      "outputs": []
    },
    {
      "cell_type": "code",
      "source": [
        "#stacking_clf = joblib.load('/content/drive/My Drive/cs506_mid/trained_model_biggest.pkl')"
      ],
      "metadata": {
        "id": "c8CoRPVxP6vC"
      },
      "execution_count": 16,
      "outputs": []
    },
    {
      "cell_type": "markdown",
      "source": [
        "# model evalutaion"
      ],
      "metadata": {
        "id": "oORWrbU6MX0A"
      }
    },
    {
      "cell_type": "code",
      "source": [
        "trained_model=stacking_clf\n",
        "y_pred=trained_model.predict(X_test)\n",
        "print(\"Accuracy:\", accuracy_score(y_test, y_pred))\n",
        "print(y_pred)\n",
        "print(\"Classification Report:\")\n",
        "print(classification_report(y_test, y_pred))"
      ],
      "metadata": {
        "colab": {
          "base_uri": "https://localhost:8080/"
        },
        "id": "fKJ54KispLVC",
        "outputId": "d4515c29-0d0b-4cae-d8fe-05d735b4ae0f"
      },
      "execution_count": 17,
      "outputs": [
        {
          "output_type": "stream",
          "name": "stdout",
          "text": [
            "Accuracy: 0.6701742692775079\n",
            "[4 2 5 ... 5 3 5]\n",
            "Classification Report:\n",
            "              precision    recall  f1-score   support\n",
            "\n",
            "           1       0.64      0.69      0.66     18238\n",
            "           2       0.46      0.31      0.37     17936\n",
            "           3       0.50      0.40      0.45     35216\n",
            "           4       0.51      0.37      0.43     67046\n",
            "           5       0.75      0.90      0.82    158633\n",
            "\n",
            "    accuracy                           0.67    297069\n",
            "   macro avg       0.57      0.53      0.55    297069\n",
            "weighted avg       0.64      0.67      0.65    297069\n",
            "\n"
          ]
        }
      ]
    },
    {
      "cell_type": "code",
      "source": [
        "import matplotlib.pyplot as plt\n",
        "from sklearn.metrics import accuracy_score, confusion_matrix\n",
        "import seaborn as sns\n",
        "print(\"Accuracy on testing set = \", accuracy_score(y_test, y_pred))\n",
        "\n",
        "# Plot a confusion matrix\n",
        "cm = confusion_matrix(y_test, y_pred, normalize='true')\n",
        "sns.heatmap(cm, annot=True)\n",
        "plt.title('Confusion matrix of the classifier')\n",
        "plt.xlabel('Predicted')\n",
        "plt.ylabel('True')\n",
        "plt.show()"
      ],
      "metadata": {
        "colab": {
          "base_uri": "https://localhost:8080/",
          "height": 489
        },
        "id": "eLm36RpLpL3G",
        "outputId": "0aaa9261-f270-401e-b271-c7e3560d2023"
      },
      "execution_count": 10,
      "outputs": [
        {
          "output_type": "stream",
          "name": "stdout",
          "text": [
            "Accuracy on testing set =  0.6701742692775079\n"
          ]
        },
        {
          "output_type": "display_data",
          "data": {
            "text/plain": [
              "<Figure size 640x480 with 2 Axes>"
            ],
            "image/png": "[encoded data removed]"
          },
          "metadata": {}
        }
      ]
    },
    {
      "cell_type": "markdown",
      "source": [
        "# final submission file"
      ],
      "metadata": {
        "id": "MDHIaFVsMQG_"
      }
    },
    {
      "cell_type": "code",
      "source": [
        "data = pd.read_csv(\"/content/drive/My Drive/cs506_mid/train.csv\")\n",
        "\n",
        "# Identify rows where 'Score' is NaN and reset index\n",
        "nan_score_data = data[data['Score'].isna()].copy().reset_index(drop=True)\n",
        "\n",
        "# Check if there are any rows with NaN 'Score'\n",
        "if nan_score_data.empty:\n",
        "    print(\"There are no rows with NaN 'Score' in the dataset.\")\n",
        "else:\n",
        "    print(f\"Number of rows with NaN 'Score': {len(nan_score_data)}\")\n",
        "\n",
        "    # Handle missing values in 'Summary' and 'Text'\n",
        "    nan_score_data['Summary'] = nan_score_data['Summary'].fillna('')\n",
        "    nan_score_data['Text'] = nan_score_data['Text'].fillna('')\n",
        "    nan_score_data['HelpfulnessNumerator'] = nan_score_data['HelpfulnessNumerator'].fillna(0)\n",
        "    nan_score_data['HelpfulnessDenominator'] = nan_score_data['HelpfulnessDenominator'].fillna(1)\n",
        "\n",
        "    # Apply preprocessing separately to 'Summary' and 'Text'\n",
        "    nan_score_data['Processed_Summary'] = nan_score_data['Summary'].apply(preprocess_text)\n",
        "    nan_score_data['Processed_Text'] = nan_score_data['Text'].apply(preprocess_text)\n",
        "\n",
        "    # Feature Engineering: Calculate 'HelpfulnessRatio'\n",
        "    nan_score_data['HelpfulnessRatio'] = nan_score_data.apply(calculate_helpfulness_ratio, axis=1)\n",
        "\n",
        "\n",
        "    #tfidf_vectorizer_summary = joblib.load('tfidf_vectorizer_summary.pkl')\n",
        "    #tfidf_vectorizer_text = joblib.load('tfidf_vectorizer_text.pkl')\n",
        "\n",
        "    # Transform 'Processed_Summary' and 'Processed_Text'\n",
        "    tfidf_matrix_summary = tfidf_vectorizer_summary.transform(nan_score_data['Processed_Summary'])\n",
        "    tfidf_matrix_text = tfidf_vectorizer_text.transform(nan_score_data['Processed_Text'])\n",
        "\n",
        "    # Prepare numerical features\n",
        "    numerical_features = nan_score_data[['HelpfulnessNumerator', 'HelpfulnessDenominator', 'HelpfulnessRatio']].fillna(0)\n",
        "    numerical_features_sparse = csr_matrix(numerical_features.values)\n",
        "\n",
        "    # Combine numerical features and vectorized 'Summary' and 'Text' features\n",
        "    X_new = hstack([numerical_features_sparse, tfidf_matrix_summary, tfidf_matrix_text])\n",
        "\n"
      ],
      "metadata": {
        "colab": {
          "base_uri": "https://localhost:8080/"
        },
        "id": "rfFwy9_kNpo-",
        "outputId": "7dc01daa-1b43-4117-b5e6-87c8a206951c"
      },
      "execution_count": 12,
      "outputs": [
        {
          "output_type": "stream",
          "name": "stdout",
          "text": [
            "Number of rows with NaN 'Score': 212192\n"
          ]
        }
      ]
    },
    {
      "cell_type": "code",
      "source": [
        "\n",
        "X_new = X_new.copy()\n",
        "\n",
        "predictions = trained_model.predict(X_new)\n",
        "\n",
        "results_df = pd.DataFrame({\n",
        "    'Id': nan_score_data['Id'].values,\n",
        "    'Score': predictions\n",
        "})\n",
        "\n",
        "results_df.to_csv('submission.csv', index=False)\n",
        "\n",
        "print(\"Predicted scores have been saved to 'submission.csv'.\")\n"
      ],
      "metadata": {
        "colab": {
          "base_uri": "https://localhost:8080/"
        },
        "id": "6_OiaOZASfrJ",
        "outputId": "49650762-5657-4bec-8f72-28d97e5e3c97"
      },
      "execution_count": 13,
      "outputs": [
        {
          "output_type": "stream",
          "name": "stdout",
          "text": [
            "Predicted scores have been saved to 'submission.csv'.\n"
          ]
        }
      ]
    },
    {
      "cell_type": "code",
      "source": [],
      "metadata": {
        "id": "TorwkbfSTIzy"
      },
      "execution_count": null,
      "outputs": []
    }
  ]
}